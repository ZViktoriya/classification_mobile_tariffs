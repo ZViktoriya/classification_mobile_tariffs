{
 "cells": [
  {
   "cell_type": "markdown",
   "metadata": {},
   "source": [
    "# **<p style=\"text-align: center;\">Рекомендация тарифов.</p>**"
   ]
  },
  {
   "cell_type": "markdown",
   "metadata": {},
   "source": [
    "В проекте представлены данные оператора мобильной связи «Мегалайн», многие клиенты которого пользуются архивными тарифами. Перед нами задача: построить систему, способную проанализировать поведение клиентов и предложить пользователям новый тариф: «Смарт» или «Ультра».\n",
    "В нашем распоряжении данные о поведении клиентов, которые уже перешли на эти тарифы. Нужно построить модель для задачи классификации, которая выберет подходящий тариф. "
   ]
  },
  {
   "attachments": {
    "tarif.jpeg": {
     "image/jpeg": "[encoded data removed]"
    }
   },
   "cell_type": "markdown",
   "metadata": {},
   "source": [
    "![tarif.jpeg](attachment:tarif.jpeg)"
   ]
  },
  {
   "cell_type": "code",
   "execution_count": 1,
   "metadata": {},
   "outputs": [],
   "source": [
    "import pandas as pd\n",
    "import matplotlib.pyplot as plt\n",
    "from joblib import dump\n",
    "from sklearn.linear_model import LogisticRegression \n",
    "from sklearn.model_selection import train_test_split\n",
    "from sklearn.tree import DecisionTreeClassifier\n",
    "from sklearn.metrics import accuracy_score\n",
    "from sklearn.ensemble import RandomForestClassifier\n",
    "from sklearn.linear_model import LogisticRegression \n",
    "from sklearn.metrics import precision_score, recall_score\n",
    "from joblib import dump\n",
    "from sklearn.dummy import DummyClassifier\n",
    "from sklearn.model_selection import GridSearchCV"
   ]
  },
  {
   "cell_type": "markdown",
   "metadata": {},
   "source": [
    "## Откройте и изучите файл"
   ]
  },
  {
   "cell_type": "code",
   "execution_count": 2,
   "metadata": {},
   "outputs": [
    {
     "data": {
      "text/html": [
       "<div>\n",
       "<style scoped>\n",
       "    .dataframe tbody tr th:only-of-type {\n",
       "        vertical-align: middle;\n",
       "    }\n",
       "\n",
       "    .dataframe tbody tr th {\n",
       "        vertical-align: top;\n",
       "    }\n",
       "\n",
       "    .dataframe thead th {\n",
       "        text-align: right;\n",
       "    }\n",
       "</style>\n",
       "<table border=\"1\" class=\"dataframe\">\n",
       "  <thead>\n",
       "    <tr style=\"text-align: right;\">\n",
       "      <th></th>\n",
       "      <th>calls</th>\n",
       "      <th>minutes</th>\n",
       "      <th>messages</th>\n",
       "      <th>mb_used</th>\n",
       "      <th>is_ultra</th>\n",
       "    </tr>\n",
       "  </thead>\n",
       "  <tbody>\n",
       "    <tr>\n",
       "      <th>0</th>\n",
       "      <td>40.0</td>\n",
       "      <td>311.90</td>\n",
       "      <td>83.0</td>\n",
       "      <td>19915.42</td>\n",
       "      <td>0</td>\n",
       "    </tr>\n",
       "    <tr>\n",
       "      <th>1</th>\n",
       "      <td>85.0</td>\n",
       "      <td>516.75</td>\n",
       "      <td>56.0</td>\n",
       "      <td>22696.96</td>\n",
       "      <td>0</td>\n",
       "    </tr>\n",
       "    <tr>\n",
       "      <th>2</th>\n",
       "      <td>77.0</td>\n",
       "      <td>467.66</td>\n",
       "      <td>86.0</td>\n",
       "      <td>21060.45</td>\n",
       "      <td>0</td>\n",
       "    </tr>\n",
       "    <tr>\n",
       "      <th>3</th>\n",
       "      <td>106.0</td>\n",
       "      <td>745.53</td>\n",
       "      <td>81.0</td>\n",
       "      <td>8437.39</td>\n",
       "      <td>1</td>\n",
       "    </tr>\n",
       "    <tr>\n",
       "      <th>4</th>\n",
       "      <td>66.0</td>\n",
       "      <td>418.74</td>\n",
       "      <td>1.0</td>\n",
       "      <td>14502.75</td>\n",
       "      <td>0</td>\n",
       "    </tr>\n",
       "  </tbody>\n",
       "</table>\n",
       "</div>"
      ],
      "text/plain": [
       "   calls  minutes  messages   mb_used  is_ultra\n",
       "0   40.0   311.90      83.0  19915.42         0\n",
       "1   85.0   516.75      56.0  22696.96         0\n",
       "2   77.0   467.66      86.0  21060.45         0\n",
       "3  106.0   745.53      81.0   8437.39         1\n",
       "4   66.0   418.74       1.0  14502.75         0"
      ]
     },
     "execution_count": 2,
     "metadata": {},
     "output_type": "execute_result"
    }
   ],
   "source": [
    "users_behavior = pd.read_csv('/datasets/users_behavior.csv')\n",
    "users_behavior.head()"
   ]
  },
  {
   "cell_type": "code",
   "execution_count": 3,
   "metadata": {},
   "outputs": [
    {
     "name": "stdout",
     "output_type": "stream",
     "text": [
      "<class 'pandas.core.frame.DataFrame'>\n",
      "RangeIndex: 3214 entries, 0 to 3213\n",
      "Data columns (total 5 columns):\n",
      " #   Column    Non-Null Count  Dtype  \n",
      "---  ------    --------------  -----  \n",
      " 0   calls     3214 non-null   float64\n",
      " 1   minutes   3214 non-null   float64\n",
      " 2   messages  3214 non-null   float64\n",
      " 3   mb_used   3214 non-null   float64\n",
      " 4   is_ultra  3214 non-null   int64  \n",
      "dtypes: float64(4), int64(1)\n",
      "memory usage: 125.7 KB\n"
     ]
    }
   ],
   "source": [
    "users_behavior.info()"
   ]
  },
  {
   "cell_type": "code",
   "execution_count": 4,
   "metadata": {},
   "outputs": [
    {
     "name": "stdout",
     "output_type": "stream",
     "text": [
      "Количество явных дубликатов: 0\n"
     ]
    }
   ],
   "source": [
    "duplicate_rows = users_behavior.duplicated().sum()\n",
    "print(\"Количество явных дубликатов:\", duplicate_rows)"
   ]
  },
  {
   "cell_type": "code",
   "execution_count": 5,
   "metadata": {},
   "outputs": [
    {
     "name": "stdout",
     "output_type": "stream",
     "text": [
      "Количество неявных дубликатов: 9\n"
     ]
    }
   ],
   "source": [
    "duplicate_rows = users_behavior.duplicated(subset=['calls', 'minutes', 'messages']).sum()\n",
    "print(\"Количество неявных дубликатов:\", duplicate_rows)"
   ]
  },
  {
   "cell_type": "code",
   "execution_count": 6,
   "metadata": {},
   "outputs": [
    {
     "name": "stdout",
     "output_type": "stream",
     "text": [
      "Количество неявных дубликатов: 40\n"
     ]
    }
   ],
   "source": [
    "duplicate_rows = users_behavior.duplicated(subset=['calls', 'minutes','is_ultra']).sum()\n",
    "print(\"Количество неявных дубликатов:\", duplicate_rows)"
   ]
  },
  {
   "cell_type": "code",
   "execution_count": 7,
   "metadata": {},
   "outputs": [
    {
     "name": "stdout",
     "output_type": "stream",
     "text": [
      "Количество неявных дубликатов: 5\n"
     ]
    }
   ],
   "source": [
    "duplicate_rows = users_behavior.duplicated(subset=['calls', 'minutes','messages', 'is_ultra']).sum()\n",
    "print(\"Количество неявных дубликатов:\", duplicate_rows)"
   ]
  },
  {
   "cell_type": "code",
   "execution_count": 8,
   "metadata": {},
   "outputs": [],
   "source": [
    "users_behavior.drop_duplicates(subset=['calls', 'minutes','messages', 'is_ultra'], inplace=True)"
   ]
  },
  {
   "cell_type": "code",
   "execution_count": 9,
   "metadata": {},
   "outputs": [
    {
     "data": {
      "text/html": [
       "<div>\n",
       "<style scoped>\n",
       "    .dataframe tbody tr th:only-of-type {\n",
       "        vertical-align: middle;\n",
       "    }\n",
       "\n",
       "    .dataframe tbody tr th {\n",
       "        vertical-align: top;\n",
       "    }\n",
       "\n",
       "    .dataframe thead th {\n",
       "        text-align: right;\n",
       "    }\n",
       "</style>\n",
       "<table border=\"1\" class=\"dataframe\">\n",
       "  <thead>\n",
       "    <tr style=\"text-align: right;\">\n",
       "      <th></th>\n",
       "      <th>calls</th>\n",
       "      <th>minutes</th>\n",
       "      <th>messages</th>\n",
       "      <th>mb_used</th>\n",
       "      <th>is_ultra</th>\n",
       "    </tr>\n",
       "  </thead>\n",
       "  <tbody>\n",
       "    <tr>\n",
       "      <th>count</th>\n",
       "      <td>3209.000000</td>\n",
       "      <td>3209.000000</td>\n",
       "      <td>3209.000000</td>\n",
       "      <td>3209.000000</td>\n",
       "      <td>3209.000000</td>\n",
       "    </tr>\n",
       "    <tr>\n",
       "      <th>mean</th>\n",
       "      <td>63.137114</td>\n",
       "      <td>438.891567</td>\n",
       "      <td>38.299782</td>\n",
       "      <td>17210.209950</td>\n",
       "      <td>0.305391</td>\n",
       "    </tr>\n",
       "    <tr>\n",
       "      <th>std</th>\n",
       "      <td>33.168878</td>\n",
       "      <td>234.113271</td>\n",
       "      <td>36.173115</td>\n",
       "      <td>7574.588881</td>\n",
       "      <td>0.460645</td>\n",
       "    </tr>\n",
       "    <tr>\n",
       "      <th>min</th>\n",
       "      <td>0.000000</td>\n",
       "      <td>0.000000</td>\n",
       "      <td>0.000000</td>\n",
       "      <td>0.000000</td>\n",
       "      <td>0.000000</td>\n",
       "    </tr>\n",
       "    <tr>\n",
       "      <th>25%</th>\n",
       "      <td>40.000000</td>\n",
       "      <td>275.470000</td>\n",
       "      <td>9.000000</td>\n",
       "      <td>12492.360000</td>\n",
       "      <td>0.000000</td>\n",
       "    </tr>\n",
       "    <tr>\n",
       "      <th>50%</th>\n",
       "      <td>62.000000</td>\n",
       "      <td>431.000000</td>\n",
       "      <td>30.000000</td>\n",
       "      <td>16944.440000</td>\n",
       "      <td>0.000000</td>\n",
       "    </tr>\n",
       "    <tr>\n",
       "      <th>75%</th>\n",
       "      <td>82.000000</td>\n",
       "      <td>572.140000</td>\n",
       "      <td>57.000000</td>\n",
       "      <td>21425.840000</td>\n",
       "      <td>1.000000</td>\n",
       "    </tr>\n",
       "    <tr>\n",
       "      <th>max</th>\n",
       "      <td>244.000000</td>\n",
       "      <td>1632.060000</td>\n",
       "      <td>224.000000</td>\n",
       "      <td>49745.730000</td>\n",
       "      <td>1.000000</td>\n",
       "    </tr>\n",
       "  </tbody>\n",
       "</table>\n",
       "</div>"
      ],
      "text/plain": [
       "             calls      minutes     messages       mb_used     is_ultra\n",
       "count  3209.000000  3209.000000  3209.000000   3209.000000  3209.000000\n",
       "mean     63.137114   438.891567    38.299782  17210.209950     0.305391\n",
       "std      33.168878   234.113271    36.173115   7574.588881     0.460645\n",
       "min       0.000000     0.000000     0.000000      0.000000     0.000000\n",
       "25%      40.000000   275.470000     9.000000  12492.360000     0.000000\n",
       "50%      62.000000   431.000000    30.000000  16944.440000     0.000000\n",
       "75%      82.000000   572.140000    57.000000  21425.840000     1.000000\n",
       "max     244.000000  1632.060000   224.000000  49745.730000     1.000000"
      ]
     },
     "execution_count": 9,
     "metadata": {},
     "output_type": "execute_result"
    }
   ],
   "source": [
    "users_behavior.describe()"
   ]
  },
  {
   "cell_type": "code",
   "execution_count": 10,
   "metadata": {},
   "outputs": [
    {
     "data": {
      "image/png": "[encoded data removed]",
      "text/plain": [
       "<Figure size 432x288 with 1 Axes>"
      ]
     },
     "metadata": {
      "needs_background": "light"
     },
     "output_type": "display_data"
    }
   ],
   "source": [
    "labels = ['0 (Смарт)', '1 (Ультра)']\n",
    "values = users_behavior['is_ultra'].value_counts()\n",
    "plt.bar(labels, values)\n",
    "\n",
    "plt.xlabel('Тариф')\n",
    "plt.ylabel('Количество клиентов')\n",
    "plt.title('Распределение тарифов')\n",
    "plt.show()"
   ]
  },
  {
   "cell_type": "markdown",
   "metadata": {},
   "source": [
    "**Изучив данные можно сделать следующий вывод:**\n",
    "- данные не содержат пропущенных значений\n",
    "- выявлены и удалены неявные дубликаты\n",
    "- распределение тарифов показывает, что тариф \"Смарт\" более популярен среди клиентов, чем тариф \"Ультра\". "
   ]
  },
  {
   "cell_type": "markdown",
   "metadata": {},
   "source": [
    "## Разбейте данные на выборки"
   ]
  },
  {
   "cell_type": "code",
   "execution_count": 11,
   "metadata": {},
   "outputs": [],
   "source": [
    "df_train_val, df_test = train_test_split(users_behavior, test_size=0.2, random_state=12345)\n",
    "\n",
    "df_train, df_valid = train_test_split(df_train_val, test_size=0.25, random_state=12345)\n",
    "\n",
    "features_train = df_train.drop(['is_ultra'], axis=1)\n",
    "target_train = df_train['is_ultra']\n",
    "\n",
    "features_valid = df_valid.drop(['is_ultra'], axis=1)\n",
    "target_valid = df_valid['is_ultra']\n",
    "\n",
    "features_test = df_test.drop(['is_ultra'], axis=1)\n",
    "target_test = df_test['is_ultra']"
   ]
  },
  {
   "cell_type": "code",
   "execution_count": 12,
   "metadata": {},
   "outputs": [
    {
     "name": "stdout",
     "output_type": "stream",
     "text": [
      "(1925, 4)\n",
      "(1925,)\n",
      "(642, 4)\n",
      "(642,)\n",
      "(642, 4)\n",
      "(642,)\n"
     ]
    }
   ],
   "source": [
    "print(features_train.shape)\n",
    "print(target_train.shape)\n",
    "print(features_valid.shape)\n",
    "print(target_valid.shape)\n",
    "print(features_test.shape)\n",
    "print(target_test.shape)"
   ]
  },
  {
   "cell_type": "markdown",
   "metadata": {},
   "source": [
    "***Используя выше разделение данных позволяет нам использовать 60% данных для обучения модели, 20% для валидации и настройки гиперпараметров модели, и оставшиеся 20% для окончательной оценки модели на независимой тестовой выборке.***"
   ]
  },
  {
   "cell_type": "markdown",
   "metadata": {},
   "source": [
    "## Исследуйте модели"
   ]
  },
  {
   "cell_type": "markdown",
   "metadata": {},
   "source": [
    "### DecisionTreeClassifier (дерево решений)."
   ]
  },
  {
   "cell_type": "code",
   "execution_count": 14,
   "metadata": {},
   "outputs": [
    {
     "name": "stdout",
     "output_type": "stream",
     "text": [
      "Accuracy наилучшей модели на валидационной выборке: 0.7881619937694704\n"
     ]
    }
   ],
   "source": [
    "param_grid = {\n",
    "    'max_depth': range(1, 8),\n",
    "    'min_samples_leaf': [1, 2, 3, 4, 5],\n",
    "    'criterion': ['gini', 'entropy'],\n",
    "    'min_samples_split': [2, 3, 4, 5, 6]\n",
    "}\n",
    "model = DecisionTreeClassifier(random_state=12345)\n",
    "\n",
    "grid_search = GridSearchCV(model, param_grid, scoring='accuracy', cv=5)\n",
    "grid_search.fit(features_train, target_train)\n",
    "\n",
    "best_model_dtc = grid_search.best_estimator_\n",
    "\n",
    "accuracy_valid_dtc = best_model_dtc.score(features_valid, target_valid)\n",
    "\n",
    "print(f\"Accuracy наилучшей модели на валидационной выборке: {accuracy_valid_dtc}\")"
   ]
  },
  {
   "cell_type": "code",
   "execution_count": 15,
   "metadata": {},
   "outputs": [
    {
     "data": {
      "image/png": "[encoded data removed]",
      "text/plain": [
       "<Figure size 1224x432 with 1 Axes>"
      ]
     },
     "metadata": {
      "needs_background": "light"
     },
     "output_type": "display_data"
    }
   ],
   "source": [
    "metric_values = []\n",
    "param_values = []\n",
    "\n",
    "for param, score in zip(grid_search.cv_results_['params'], grid_search.cv_results_['mean_test_score']):\n",
    "    param_values.append(param['max_depth'])\n",
    "    metric_values.append(score)\n",
    "    \n",
    "plt.figure(figsize=(17, 6))\n",
    "plt.plot(param_values, metric_values, marker='o')\n",
    "plt.xlabel('max_depth')\n",
    "plt.ylabel('Accuracy')\n",
    "plt.title('Зависимость метрики от глубины дерева')\n",
    "plt.show()"
   ]
  },
  {
   "cell_type": "markdown",
   "metadata": {},
   "source": [
    "### RandomForestClassifier (Случайный лес)."
   ]
  },
  {
   "cell_type": "code",
   "execution_count": 19,
   "metadata": {},
   "outputs": [
    {
     "name": "stdout",
     "output_type": "stream",
     "text": [
      "Accuracy наилучшей модели на валидационной выборке: 0.8098701298701299\n"
     ]
    }
   ],
   "source": [
    "param_grid = {\n",
    "    'n_estimators': [10, 50, 100],\n",
    "    'max_depth': [None, 5, 10],\n",
    "    'min_samples_split': [2, 5, 10],\n",
    "    'max_features': ['auto', 'sqrt'],\n",
    "    'min_samples_leaf': [1, 2, 3]\n",
    "}\n",
    "grid_search = GridSearchCV(model, param_grid, scoring='accuracy', cv=5, n_jobs=-1, verbose=0)\n",
    "grid_search.fit(features_train, target_train)\n",
    "\n",
    "best_model_rfc = grid_search.best_estimator_\n",
    "best_accuracy_rfc = grid_search.best_score_\n",
    "\n",
    "print(f\"Accuracy наилучшей модели на валидационной выборке: {best_accuracy_rfc}\")"
   ]
  },
  {
   "cell_type": "code",
   "execution_count": 20,
   "metadata": {},
   "outputs": [
    {
     "name": "stdout",
     "output_type": "stream",
     "text": [
      "Наилучшие значения гиперпараметров модели: RandomForestClassifier(max_depth=10, min_samples_leaf=2, random_state=12345)\n"
     ]
    }
   ],
   "source": [
    "print(f\"Наилучшие значения гиперпараметров модели: {best_model_rfc}\")"
   ]
  },
  {
   "cell_type": "markdown",
   "metadata": {},
   "source": [
    "### LogisticRegression (Логистическая регрессия). "
   ]
  },
  {
   "cell_type": "code",
   "execution_count": 21,
   "metadata": {},
   "outputs": [
    {
     "name": "stdout",
     "output_type": "stream",
     "text": [
      "C = 0.1 : Accuracy = 0.7523364485981309\n",
      "C = 1 : Accuracy = 0.7523364485981309\n",
      "C = 10 : Accuracy = 0.7523364485981309\n",
      "Наилучшая модель:\n",
      "LogisticRegression(C=0.1, random_state=12345)\n",
      "Accuracy наилучшей модели на валидационной выборке: 0.7523364485981309\n",
      "Значение параметра C для наилучшей модели: 0.1\n"
     ]
    }
   ],
   "source": [
    "best_model_lg = None\n",
    "best_result_lg = 0\n",
    "best_C_lg = None\n",
    "\n",
    "for C in [0.1, 1, 10]:\n",
    "    model = LogisticRegression(random_state=12345, C=C)\n",
    "    model.fit(features_train, target_train)\n",
    "    predictions_valid_lg = model.predict(features_valid)\n",
    "    accuracy_lg = accuracy_score(target_valid, predictions_valid_lg)\n",
    "    print(\"C =\", C, \": Accuracy =\", accuracy_lg)\n",
    "    if accuracy_lg > best_result_lg:\n",
    "        best_model_lg = model\n",
    "        best_result_lg = accuracy_lg\n",
    "        best_C_lg = C\n",
    "\n",
    "print(\"Наилучшая модель:\")\n",
    "print(best_model_lg)\n",
    "print(\"Accuracy наилучшей модели на валидационной выборке:\", best_result_lg)\n",
    "print(\"Значение параметра C для наилучшей модели:\", best_C_lg)"
   ]
  },
  {
   "cell_type": "code",
   "execution_count": 22,
   "metadata": {},
   "outputs": [
    {
     "name": "stdout",
     "output_type": "stream",
     "text": [
      "Точность модели на валидационной выборке: 0.8113207547169812\n",
      "Полнота модели на валидационной выборке: 0.22395833333333334\n"
     ]
    }
   ],
   "source": [
    "predictions_lg = best_model_lg.predict(features_valid)\n",
    "precision_lg = precision_score(target_valid, predictions_valid_lg)\n",
    "recall_lg = recall_score(target_valid, predictions_valid_lg)\n",
    "\n",
    "print(\"Точность модели на валидационной выборке:\", precision_lg)\n",
    "print(\"Полнота модели на валидационной выборке:\", recall_lg)"
   ]
  },
  {
   "cell_type": "code",
   "execution_count": 23,
   "metadata": {},
   "outputs": [
    {
     "name": "stdout",
     "output_type": "stream",
     "text": [
      "Наилучшие значения гиперпараметров модели: RandomForestClassifier(max_depth=10, min_samples_leaf=2, random_state=12345)\n",
      "Наилучшая модель: LogisticRegression(C=0.1, random_state=12345)\n",
      "Доля правильных ответов наилучшей модели на валидационной выборке: 0.7523364485981309\n",
      "Значение параметра C для наилучшей модели: 0.1\n",
      "Точность модели на валидационной выборке: 0.8113207547169812\n",
      "Полнота модели на валидационной выборке: 0.22395833333333334\n"
     ]
    }
   ],
   "source": [
    "print(f\"Наилучшие значения гиперпараметров модели: {best_model_rfc}\")\n",
    "\n",
    "print(f\"Наилучшая модель: {best_model_lg}\")\n",
    "\n",
    "print(f\"Доля правильных ответов наилучшей модели на валидационной выборке: {best_result_lg}\")\n",
    "print(f\"Значение параметра C для наилучшей модели: {best_C_lg}\")\n",
    "\n",
    "print(f\"Точность модели на валидационной выборке: {precision_lg}\")\n",
    "print(f\"Полнота модели на валидационной выборке: {recall_lg}\")"
   ]
  },
  {
   "cell_type": "markdown",
   "metadata": {},
   "source": [
    "## Проверьте модель на тестовой выборке"
   ]
  },
  {
   "cell_type": "markdown",
   "metadata": {},
   "source": [
    "### Проверим модель на тестовой выборке DecisionTreeClassifier (дерево решений)."
   ]
  },
  {
   "cell_type": "code",
   "execution_count": 24,
   "metadata": {},
   "outputs": [
    {
     "name": "stdout",
     "output_type": "stream",
     "text": [
      "Accuracy модели на тестовой выборке: 0.7694704049844237\n",
      "Точность модели на тестовой выборке: 0.7938144329896907\n",
      "Полнота модели на тестовой выборке: 0.375609756097561\n"
     ]
    }
   ],
   "source": [
    "best_model_dtc = DecisionTreeClassifier(random_state=12345, max_depth=4)\n",
    "best_model_dtc.fit(features_train, target_train)\n",
    "\n",
    "predictions_test_dtc = best_model_dtc.predict(features_test)\n",
    "accuracy_test_dtc = accuracy_score(target_test, predictions_test_dtc)\n",
    "precision_test_dtc = precision_score(target_test, predictions_test_dtc)\n",
    "recall_test_dtc = recall_score(target_test, predictions_test_dtc)\n",
    "\n",
    "print(\"Accuracy модели на тестовой выборке:\", accuracy_test_dtc)\n",
    "print(\"Точность модели на тестовой выборке:\", precision_test_dtc)\n",
    "print(\"Полнота модели на тестовой выборке:\", recall_test_dtc)"
   ]
  },
  {
   "cell_type": "markdown",
   "metadata": {},
   "source": [
    "***После оценки модели на тестовой выборке получены следующие результаты:***\n",
    "\n",
    "Accuracy модели показала, что модель правильно классифицирует примерно 76.9% объектов.\n",
    "Точность модели на тестовой выборке указывает на способность модели правильно определять объекты положительного класса (тариф \"Ультра\") из всех предсказанных положительных объектов.\n",
    "Полнота модели на тестовой выборке показала, что модель правильно обнаруживает только примерно 37.6% объектов положительного класса из всех реальных объектов положительного класса.\n",
    "Таким образом, модель имеет приемлемую точность, но низкую полноту. "
   ]
  },
  {
   "cell_type": "markdown",
   "metadata": {},
   "source": [
    "### Проверим модель на тестовой выборке RandomForestClassifier (Случайный лес)."
   ]
  },
  {
   "cell_type": "code",
   "execution_count": 25,
   "metadata": {},
   "outputs": [
    {
     "name": "stdout",
     "output_type": "stream",
     "text": [
      "Accuracy модели на тестовой выборке: 0.7928348909657321\n",
      "Точность модели на тестовой выборке: 0.7903225806451613\n",
      "Полнота модели на тестовой выборке: 0.47804878048780486\n"
     ]
    }
   ],
   "source": [
    "predictions_test_rfc = best_model_rfc.predict(features_test)\n",
    "accuracy_test_rfc = accuracy_score(target_test, predictions_test_rfc)\n",
    "precision_test_rfc = precision_score(target_test, predictions_test_rfc)\n",
    "recall_test_rfc = recall_score(target_test, predictions_test_rfc)\n",
    "\n",
    "print(\"Accuracy модели на тестовой выборке:\", accuracy_test_rfc)\n",
    "print(\"Точность модели на тестовой выборке:\", precision_test_rfc)\n",
    "print(\"Полнота модели на тестовой выборке:\", recall_test_rfc)"
   ]
  },
  {
   "cell_type": "markdown",
   "metadata": {},
   "source": [
    "**Модель RandomForestClassifier показывает достаточно высокую точность на тестовой выборке, составляющую около 72.86%. Это означает, что примерно 72.86% объектов были правильно классифицированы моделью.**\n",
    "\n",
    "**Однако, полнота модели на тестовой выборке немного ниже и составляет около 45.85%. Это означает, что из всех реальных положительных классов модель обнаруживает только около 45.85%.**\n"
   ]
  },
  {
   "cell_type": "markdown",
   "metadata": {},
   "source": [
    "### Проверим модель на тестовой выборке LogisticRegression (Логистическая регрессия)."
   ]
  },
  {
   "cell_type": "code",
   "execution_count": 26,
   "metadata": {},
   "outputs": [
    {
     "name": "stdout",
     "output_type": "stream",
     "text": [
      "Accuracy модели на тестовой выборке: 0.7336448598130841\n",
      "Точность модели на тестовой выборке: 0.84\n",
      "Полнота модели на тестовой выборке: 0.2048780487804878\n"
     ]
    }
   ],
   "source": [
    "predictions_test_lg = best_model_lg.predict(features_test)\n",
    "accuracy_test_lg = accuracy_score(target_test, predictions_test_lg)\n",
    "precision_test_lg = precision_score(target_test, predictions_test_lg)\n",
    "recall_test_lg = recall_score(target_test, predictions_test_lg)\n",
    "\n",
    "print(\"Accuracy модели на тестовой выборке:\", accuracy_test_lg)\n",
    "print(\"Точность модели на тестовой выборке:\", precision_test_lg)\n",
    "print(\"Полнота модели на тестовой выборке:\", recall_test_lg)"
   ]
  },
  {
   "cell_type": "markdown",
   "metadata": {},
   "source": [
    "**Модель LogisticRegression продемонстрировала достаточно высокую точность (84%), что означает, что она правильно классифицировала 84% тестовых примеров. Однако, полнота модели (20.49%) является относительно низкой, что означает, что модель недостаточно хорошо выявляет положительные случаи.**"
   ]
  },
  {
   "cell_type": "markdown",
   "metadata": {},
   "source": [
    "## Проверьте модели на адекватность"
   ]
  },
  {
   "cell_type": "markdown",
   "metadata": {},
   "source": [
    "### Проверьте модели на адекватность DecisionTreeClassifier (дерево решений)."
   ]
  },
  {
   "cell_type": "code",
   "execution_count": 27,
   "metadata": {
    "scrolled": true
   },
   "outputs": [
    {
     "name": "stdout",
     "output_type": "stream",
     "text": [
      "Результаты модели DecisionTreeClassifier:\n",
      "Точность на тестовом наборе данных: 0.7694704049844237\n",
      "Точность на тестовом наборе данных: 0.7938144329896907\n",
      "Полнота на тестовом наборе данных: 0.375609756097561\n",
      "\n",
      "Результаты константной модели:\n",
      "Точность на тестовом наборе данных: 0.6806853582554517\n"
     ]
    }
   ],
   "source": [
    "# Создаем константную модель, которая всегда предсказывает наиболее частый класс в обучающем наборе\n",
    "dummy_model = DummyClassifier(strategy=\"most_frequent\")\n",
    "dummy_model.fit(features_train, target_train)\n",
    "accuracy_dummy = dummy_model.score(features_test, target_test)\n",
    "\n",
    "accuracy_test_dtc = accuracy_score(target_test, predictions_test_dtc)\n",
    "precision_test_dtc = precision_score(target_test, predictions_test_dtc)\n",
    "recall_test_dtc = recall_score(target_test, predictions_test_dtc)\n",
    "\n",
    "print(\"Результаты модели DecisionTreeClassifier:\")\n",
    "print(\"Точность на тестовом наборе данных:\", accuracy_test_dtc)\n",
    "print(\"Точность на тестовом наборе данных:\", precision_test_dtc)\n",
    "print(\"Полнота на тестовом наборе данных:\", recall_test_dtc)\n",
    "print(\"\")\n",
    "\n",
    "print(\"Результаты константной модели:\")\n",
    "print(\"Точность на тестовом наборе данных:\", accuracy_dummy)"
   ]
  },
  {
   "cell_type": "markdown",
   "metadata": {},
   "source": [
    "**Сравнивая эти значения с результатами константной модели, которая всегда предсказывает наиболее частый класс в обучающем наборе, мы видим улучшение в точности и точности предсказания положительного класса.В целом, модель DecisionTreeClassifier с глубиной дерева 4 показывает неплохие результаты, но обладает недостаточно высокой полнотой предсказания положительного класса.**"
   ]
  },
  {
   "cell_type": "markdown",
   "metadata": {},
   "source": [
    "### Проверьте модели на адекватность RandomForestClassifier (Случайный лес)."
   ]
  },
  {
   "cell_type": "code",
   "execution_count": 28,
   "metadata": {},
   "outputs": [
    {
     "name": "stdout",
     "output_type": "stream",
     "text": [
      "Результаты модели DummyClassifier:\n",
      "Accuracy на тестовой выборке: 0.6806853582554517\n",
      "Точность на тестовой выборке: 1.0\n",
      "Полнота на тестовой выборке: 0.0\n",
      "Результаты модели RandomForestClassifier:\n",
      "Accuracy на тестовой выборке: 0.7928348909657321\n",
      "Точность на тестовой выборке: 0.7903225806451613\n",
      "Полнота на тестовой выборке: 0.47804878048780486\n"
     ]
    }
   ],
   "source": [
    "# Создаем константную модель, которая всегда предсказывает наиболее частый класс в обучающем наборе\n",
    "dummy_model = DummyClassifier(strategy='most_frequent')\n",
    "dummy_model.fit(features_train, target_train)\n",
    "predictions_dummy = dummy_model.predict(features_test)\n",
    "accuracy_dummy = accuracy_score(target_test, predictions_dummy)\n",
    "precision_dummy = precision_score(target_test, predictions_dummy, zero_division=1)\n",
    "recall_dummy = recall_score(target_test, predictions_dummy)\n",
    "\n",
    "predictions_rfc = best_model_rfc.predict(features_test)\n",
    "accuracy_rfc = accuracy_score(target_test, predictions_rfc)\n",
    "precision_rfc = precision_score(target_test, predictions_rfc, zero_division=1)\n",
    "recall_rfc = recall_score(target_test, predictions_rfc)\n",
    "\n",
    "print(\"Результаты модели DummyClassifier:\")\n",
    "print(\"Accuracy на тестовой выборке:\", accuracy_dummy)\n",
    "print(\"Точность на тестовой выборке:\", precision_dummy)\n",
    "print(\"Полнота на тестовой выборке:\", recall_dummy)\n",
    "\n",
    "print(\"Результаты модели RandomForestClassifier:\")\n",
    "print(\"Accuracy на тестовой выборке:\", accuracy_rfc)\n",
    "print(\"Точность на тестовой выборке:\", precision_rfc)\n",
    "print(\"Полнота на тестовой выборке:\", recall_rfc)"
   ]
  },
  {
   "cell_type": "markdown",
   "metadata": {},
   "source": [
    "**Модель RandomForestClassifier показала лучшие результаты по сравнению с константной моделью DummyClassifier. Она имеет более высокую точность и полноту, что говорит о более адекватном прогнозировании классов целевой переменной.**"
   ]
  },
  {
   "cell_type": "markdown",
   "metadata": {},
   "source": [
    "### Проверьте модели на адекватность LogisticRegression (Логистическая регрессия)."
   ]
  },
  {
   "cell_type": "code",
   "execution_count": 29,
   "metadata": {},
   "outputs": [
    {
     "name": "stdout",
     "output_type": "stream",
     "text": [
      "Модель Dummy:\n",
      "Accuracy на тестовой выборке: 0.6806853582554517\n",
      "Точность на тестовой выборке: 0.0\n",
      "Полнота на тестовой выборке: 0.0\n",
      "\n",
      "Модель LogisticRegression:\n",
      "Accuracy на тестовой выборке: 0.7336448598130841\n",
      "Точность на тестовой выборке: 0.84\n",
      "Полнота на тестовой выборке: 0.2048780487804878\n"
     ]
    }
   ],
   "source": [
    "# Создаем константную модель, которая всегда предсказывает наиболее частый класс в обучающем наборе\n",
    "dummy_model = DummyClassifier(strategy='most_frequent')\n",
    "dummy_model.fit(features_train, target_train)\n",
    "\n",
    "predictions_test_dummy = dummy_model.predict(features_test)\n",
    "accuracy_test_dummy = accuracy_score(target_test, predictions_test_dummy)\n",
    "precision_test_dummy = precision_score(target_test, predictions_test_dummy, zero_division=0)\n",
    "recall_test_dummy = recall_score(target_test, predictions_test_dummy, zero_division=0)\n",
    "\n",
    "logistic_model = LogisticRegression(random_state=12345)\n",
    "logistic_model.fit(features_train, target_train)\n",
    "\n",
    "predictions_test_logistic = logistic_model.predict(features_test)\n",
    "accuracy_test_logistic = accuracy_score(target_test, predictions_test_logistic)\n",
    "precision_test_logistic = precision_score(target_test, predictions_test_logistic, zero_division=0)\n",
    "recall_test_logistic = recall_score(target_test, predictions_test_logistic, zero_division=0)\n",
    "\n",
    "print(\"Модель Dummy:\")\n",
    "print(\"Accuracy на тестовой выборке:\", accuracy_test_dummy)\n",
    "print(\"Точность на тестовой выборке:\", precision_test_dummy)\n",
    "print(\"Полнота на тестовой выборке:\", recall_test_dummy)\n",
    "\n",
    "print(\"\\nМодель LogisticRegression:\")\n",
    "print(\"Accuracy на тестовой выборке:\", accuracy_test_logistic)\n",
    "print(\"Точность на тестовой выборке:\", precision_test_logistic)\n",
    "print(\"Полнота на тестовой выборке:\", recall_test_logistic)"
   ]
  },
  {
   "cell_type": "markdown",
   "metadata": {},
   "source": [
    "**Модель Dummy, предсказывающая самый частый класс, показывает низкую точность и полноту, что говорит о непригодности этой модели для решения задачи. Модель LogisticRegression показывает более высокую точность и некоторую полноту, но всё же недостаточно для полноценного решения задачи.**"
   ]
  },
  {
   "cell_type": "markdown",
   "metadata": {},
   "source": [
    "## **<p style=\"text-align: center;\">Итоговый вывод</p>**\n",
    "***После построения и оценки трех моделей классификации, модель RandomForestClassifier показала лучший результат по метрике Accuracy на тестовой выборке, достигнув значения 0.7726. Эта модель обладает более высокой точностью и полнотой по сравнению с DecisionTreeClassifier и LogisticRegression. Поэтому модель RandomForestClassifier можно рекомендовать в качестве наилучшей для задачи классификации и выбора подходящего тарифа.***"
   ]
  }
 ],
 "metadata": {
  "ExecuteTimeLog": [
   {
    "duration": 48,
    "start_time": "2023-06-14T15:10:37.279Z"
   },
   {
    "duration": 383,
    "start_time": "2023-06-14T15:10:40.888Z"
   },
   {
    "duration": 87,
    "start_time": "2023-06-14T15:10:43.976Z"
   },
   {
    "duration": 12,
    "start_time": "2023-06-14T15:14:24.304Z"
   },
   {
    "duration": 8,
    "start_time": "2023-06-14T15:17:55.042Z"
   },
   {
    "duration": 9,
    "start_time": "2023-06-14T15:18:13.075Z"
   },
   {
    "duration": 7,
    "start_time": "2023-06-14T15:20:20.482Z"
   },
   {
    "duration": 6,
    "start_time": "2023-06-14T15:22:28.512Z"
   },
   {
    "duration": 7,
    "start_time": "2023-06-14T15:23:02.021Z"
   },
   {
    "duration": 7,
    "start_time": "2023-06-14T15:23:46.296Z"
   },
   {
    "duration": 6,
    "start_time": "2023-06-14T15:24:14.202Z"
   },
   {
    "duration": 5,
    "start_time": "2023-06-14T15:24:31.789Z"
   },
   {
    "duration": 8,
    "start_time": "2023-06-14T15:25:27.485Z"
   },
   {
    "duration": 4,
    "start_time": "2023-06-14T15:25:36.453Z"
   },
   {
    "duration": 6,
    "start_time": "2023-06-14T15:26:12.180Z"
   },
   {
    "duration": 6,
    "start_time": "2023-06-14T15:28:28.050Z"
   },
   {
    "duration": 5,
    "start_time": "2023-06-14T15:28:44.886Z"
   },
   {
    "duration": 6,
    "start_time": "2023-06-14T15:29:20.914Z"
   },
   {
    "duration": 5,
    "start_time": "2023-06-14T15:29:34.291Z"
   },
   {
    "duration": 5,
    "start_time": "2023-06-14T15:31:40.057Z"
   },
   {
    "duration": 6,
    "start_time": "2023-06-14T15:32:24.049Z"
   },
   {
    "duration": 6,
    "start_time": "2023-06-14T15:32:48.215Z"
   },
   {
    "duration": 367,
    "start_time": "2023-06-14T15:33:15.280Z"
   },
   {
    "duration": 41,
    "start_time": "2023-06-14T15:33:15.649Z"
   },
   {
    "duration": 10,
    "start_time": "2023-06-14T15:33:15.691Z"
   },
   {
    "duration": 19,
    "start_time": "2023-06-14T15:33:15.703Z"
   },
   {
    "duration": 31,
    "start_time": "2023-06-14T15:33:15.724Z"
   },
   {
    "duration": 29,
    "start_time": "2023-06-14T15:33:15.757Z"
   },
   {
    "duration": 13,
    "start_time": "2023-06-14T15:33:15.788Z"
   },
   {
    "duration": 6,
    "start_time": "2023-06-14T15:38:24.692Z"
   },
   {
    "duration": 5,
    "start_time": "2023-06-14T15:41:41.743Z"
   },
   {
    "duration": 6,
    "start_time": "2023-06-14T15:41:53.556Z"
   },
   {
    "duration": 22,
    "start_time": "2023-06-14T15:44:19.719Z"
   },
   {
    "duration": 4,
    "start_time": "2023-06-14T15:46:19.948Z"
   },
   {
    "duration": 525,
    "start_time": "2023-06-14T15:50:28.621Z"
   },
   {
    "duration": 3,
    "start_time": "2023-06-14T15:51:50.423Z"
   },
   {
    "duration": 88,
    "start_time": "2023-06-14T15:52:24.228Z"
   },
   {
    "duration": 786,
    "start_time": "2023-06-14T16:06:29.679Z"
   },
   {
    "duration": 3,
    "start_time": "2023-06-14T16:47:19.316Z"
   },
   {
    "duration": 10,
    "start_time": "2023-06-14T16:53:59.237Z"
   },
   {
    "duration": 4,
    "start_time": "2023-06-14T16:54:51.038Z"
   },
   {
    "duration": 1399,
    "start_time": "2023-06-14T16:56:40.433Z"
   },
   {
    "duration": 40,
    "start_time": "2023-06-14T16:56:41.834Z"
   },
   {
    "duration": 14,
    "start_time": "2023-06-14T16:56:41.875Z"
   },
   {
    "duration": 6,
    "start_time": "2023-06-14T16:56:41.892Z"
   },
   {
    "duration": 6,
    "start_time": "2023-06-14T16:56:41.900Z"
   },
   {
    "duration": 7,
    "start_time": "2023-06-14T16:56:41.908Z"
   },
   {
    "duration": 8,
    "start_time": "2023-06-14T16:56:41.916Z"
   },
   {
    "duration": 32,
    "start_time": "2023-06-14T16:56:41.926Z"
   },
   {
    "duration": 30,
    "start_time": "2023-06-14T16:56:41.960Z"
   },
   {
    "duration": 138,
    "start_time": "2023-06-14T16:56:41.993Z"
   },
   {
    "duration": 11,
    "start_time": "2023-06-14T16:56:42.133Z"
   },
   {
    "duration": 10,
    "start_time": "2023-06-14T16:56:42.156Z"
   },
   {
    "duration": 1593,
    "start_time": "2023-06-15T07:27:33.586Z"
   },
   {
    "duration": 77,
    "start_time": "2023-06-15T07:27:35.181Z"
   },
   {
    "duration": 16,
    "start_time": "2023-06-15T07:27:35.260Z"
   },
   {
    "duration": 13,
    "start_time": "2023-06-15T07:27:35.278Z"
   },
   {
    "duration": 47,
    "start_time": "2023-06-15T07:27:35.294Z"
   },
   {
    "duration": 7,
    "start_time": "2023-06-15T07:27:35.343Z"
   },
   {
    "duration": 16,
    "start_time": "2023-06-15T07:27:35.352Z"
   },
   {
    "duration": 5,
    "start_time": "2023-06-15T07:27:35.370Z"
   },
   {
    "duration": 23,
    "start_time": "2023-06-15T07:27:35.377Z"
   },
   {
    "duration": 118,
    "start_time": "2023-06-15T07:27:35.402Z"
   },
   {
    "duration": 10,
    "start_time": "2023-06-15T07:27:35.522Z"
   },
   {
    "duration": 7,
    "start_time": "2023-06-15T07:27:35.534Z"
   },
   {
    "duration": 25,
    "start_time": "2023-06-15T07:43:58.867Z"
   },
   {
    "duration": 34,
    "start_time": "2023-06-15T07:48:43.424Z"
   },
   {
    "duration": 47,
    "start_time": "2023-06-15T07:49:09.919Z"
   },
   {
    "duration": 16,
    "start_time": "2023-06-15T07:54:09.011Z"
   },
   {
    "duration": 380,
    "start_time": "2023-06-15T07:58:12.454Z"
   },
   {
    "duration": 510,
    "start_time": "2023-06-15T07:58:52.052Z"
   },
   {
    "duration": 299,
    "start_time": "2023-06-15T07:59:00.033Z"
   },
   {
    "duration": 5,
    "start_time": "2023-06-15T08:01:36.427Z"
   },
   {
    "duration": 4,
    "start_time": "2023-06-15T08:01:51.533Z"
   },
   {
    "duration": 4,
    "start_time": "2023-06-15T08:02:55.156Z"
   },
   {
    "duration": 26,
    "start_time": "2023-06-15T08:02:55.163Z"
   },
   {
    "duration": 24,
    "start_time": "2023-06-15T08:02:55.190Z"
   },
   {
    "duration": 33,
    "start_time": "2023-06-15T08:02:55.217Z"
   },
   {
    "duration": 19,
    "start_time": "2023-06-15T08:02:55.252Z"
   },
   {
    "duration": 6,
    "start_time": "2023-06-15T08:02:55.273Z"
   },
   {
    "duration": 11,
    "start_time": "2023-06-15T08:02:55.281Z"
   },
   {
    "duration": 5,
    "start_time": "2023-06-15T08:02:55.294Z"
   },
   {
    "duration": 25,
    "start_time": "2023-06-15T08:02:55.301Z"
   },
   {
    "duration": 108,
    "start_time": "2023-06-15T08:02:55.327Z"
   },
   {
    "duration": 21,
    "start_time": "2023-06-15T08:02:55.436Z"
   },
   {
    "duration": 4,
    "start_time": "2023-06-15T08:02:55.459Z"
   },
   {
    "duration": 50,
    "start_time": "2023-06-15T08:02:55.465Z"
   },
   {
    "duration": 287,
    "start_time": "2023-06-15T08:02:55.517Z"
   },
   {
    "duration": 4,
    "start_time": "2023-06-15T08:02:55.806Z"
   },
   {
    "duration": 51,
    "start_time": "2023-06-15T08:02:55.812Z"
   },
   {
    "duration": 1479,
    "start_time": "2023-06-15T08:03:08.011Z"
   },
   {
    "duration": 42,
    "start_time": "2023-06-15T08:03:09.493Z"
   },
   {
    "duration": 14,
    "start_time": "2023-06-15T08:03:09.537Z"
   },
   {
    "duration": 30,
    "start_time": "2023-06-15T08:03:09.553Z"
   },
   {
    "duration": 5,
    "start_time": "2023-06-15T08:03:09.585Z"
   },
   {
    "duration": 8,
    "start_time": "2023-06-15T08:03:09.592Z"
   },
   {
    "duration": 7,
    "start_time": "2023-06-15T08:03:09.602Z"
   },
   {
    "duration": 8,
    "start_time": "2023-06-15T08:03:09.610Z"
   },
   {
    "duration": 29,
    "start_time": "2023-06-15T08:03:09.619Z"
   },
   {
    "duration": 112,
    "start_time": "2023-06-15T08:03:09.650Z"
   },
   {
    "duration": 10,
    "start_time": "2023-06-15T08:03:09.764Z"
   },
   {
    "duration": 4,
    "start_time": "2023-06-15T08:03:09.775Z"
   },
   {
    "duration": 80,
    "start_time": "2023-06-15T08:03:09.781Z"
   },
   {
    "duration": 301,
    "start_time": "2023-06-15T08:03:09.863Z"
   },
   {
    "duration": 6,
    "start_time": "2023-06-15T08:03:10.165Z"
   },
   {
    "duration": 5,
    "start_time": "2023-06-15T08:03:10.173Z"
   },
   {
    "duration": 609,
    "start_time": "2023-06-15T08:04:30.594Z"
   },
   {
    "duration": 5,
    "start_time": "2023-06-15T08:04:33.434Z"
   },
   {
    "duration": 4,
    "start_time": "2023-06-15T08:04:36.482Z"
   },
   {
    "duration": 286,
    "start_time": "2023-06-15T08:04:54.032Z"
   },
   {
    "duration": 273,
    "start_time": "2023-06-15T08:06:44.811Z"
   },
   {
    "duration": 4,
    "start_time": "2023-06-15T08:19:03.460Z"
   },
   {
    "duration": 4,
    "start_time": "2023-06-15T08:20:17.403Z"
   },
   {
    "duration": 4,
    "start_time": "2023-06-15T08:24:25.833Z"
   },
   {
    "duration": 506,
    "start_time": "2023-06-15T08:24:55.203Z"
   },
   {
    "duration": 491,
    "start_time": "2023-06-15T08:26:41.395Z"
   },
   {
    "duration": 497,
    "start_time": "2023-06-15T08:26:55.413Z"
   },
   {
    "duration": 524,
    "start_time": "2023-06-15T08:27:05.198Z"
   },
   {
    "duration": 4,
    "start_time": "2023-06-15T08:29:27.103Z"
   },
   {
    "duration": 108,
    "start_time": "2023-06-15T08:29:36.458Z"
   },
   {
    "duration": 103,
    "start_time": "2023-06-15T08:32:20.606Z"
   },
   {
    "duration": 3,
    "start_time": "2023-06-15T08:41:22.194Z"
   },
   {
    "duration": 9,
    "start_time": "2023-06-15T08:41:43.893Z"
   },
   {
    "duration": 1545,
    "start_time": "2023-06-15T08:42:21.933Z"
   },
   {
    "duration": 42,
    "start_time": "2023-06-15T08:42:23.480Z"
   },
   {
    "duration": 13,
    "start_time": "2023-06-15T08:42:23.524Z"
   },
   {
    "duration": 10,
    "start_time": "2023-06-15T08:42:23.540Z"
   },
   {
    "duration": 16,
    "start_time": "2023-06-15T08:42:23.553Z"
   },
   {
    "duration": 17,
    "start_time": "2023-06-15T08:42:23.570Z"
   },
   {
    "duration": 17,
    "start_time": "2023-06-15T08:42:23.590Z"
   },
   {
    "duration": 18,
    "start_time": "2023-06-15T08:42:23.609Z"
   },
   {
    "duration": 35,
    "start_time": "2023-06-15T08:42:23.629Z"
   },
   {
    "duration": 136,
    "start_time": "2023-06-15T08:42:23.666Z"
   },
   {
    "duration": 10,
    "start_time": "2023-06-15T08:42:23.803Z"
   },
   {
    "duration": 11,
    "start_time": "2023-06-15T08:42:23.815Z"
   },
   {
    "duration": 66,
    "start_time": "2023-06-15T08:42:23.828Z"
   },
   {
    "duration": 282,
    "start_time": "2023-06-15T08:42:23.897Z"
   },
   {
    "duration": 6,
    "start_time": "2023-06-15T08:42:24.181Z"
   },
   {
    "duration": 13,
    "start_time": "2023-06-15T08:42:24.188Z"
   },
   {
    "duration": 111,
    "start_time": "2023-06-15T08:42:24.203Z"
   },
   {
    "duration": 9,
    "start_time": "2023-06-15T08:42:24.316Z"
   },
   {
    "duration": 1951,
    "start_time": "2023-06-15T14:44:26.831Z"
   },
   {
    "duration": 185,
    "start_time": "2023-06-15T14:44:28.784Z"
   },
   {
    "duration": 12,
    "start_time": "2023-06-15T14:44:28.971Z"
   },
   {
    "duration": 48,
    "start_time": "2023-06-15T14:44:28.984Z"
   },
   {
    "duration": 13,
    "start_time": "2023-06-15T14:44:29.035Z"
   },
   {
    "duration": 16,
    "start_time": "2023-06-15T14:44:29.050Z"
   },
   {
    "duration": 10,
    "start_time": "2023-06-15T14:44:29.068Z"
   },
   {
    "duration": 12,
    "start_time": "2023-06-15T14:44:29.079Z"
   },
   {
    "duration": 62,
    "start_time": "2023-06-15T14:44:29.092Z"
   },
   {
    "duration": 102,
    "start_time": "2023-06-15T14:44:29.156Z"
   },
   {
    "duration": 8,
    "start_time": "2023-06-15T14:44:29.260Z"
   },
   {
    "duration": 22,
    "start_time": "2023-06-15T14:44:29.269Z"
   },
   {
    "duration": 106,
    "start_time": "2023-06-15T14:44:29.292Z"
   },
   {
    "duration": 354,
    "start_time": "2023-06-15T14:44:29.400Z"
   },
   {
    "duration": 4,
    "start_time": "2023-06-15T14:44:29.755Z"
   },
   {
    "duration": 6,
    "start_time": "2023-06-15T14:44:29.761Z"
   },
   {
    "duration": 94,
    "start_time": "2023-06-15T14:44:29.768Z"
   },
   {
    "duration": 6,
    "start_time": "2023-06-15T14:44:29.864Z"
   },
   {
    "duration": 13,
    "start_time": "2023-06-15T14:51:12.031Z"
   },
   {
    "duration": 274,
    "start_time": "2023-06-15T15:06:20.443Z"
   },
   {
    "duration": 294,
    "start_time": "2023-06-15T15:06:51.427Z"
   },
   {
    "duration": 290,
    "start_time": "2023-06-15T15:08:59.066Z"
   },
   {
    "duration": 267,
    "start_time": "2023-06-15T15:09:03.018Z"
   },
   {
    "duration": 5,
    "start_time": "2023-06-15T15:09:41.181Z"
   },
   {
    "duration": 5,
    "start_time": "2023-06-15T15:09:48.742Z"
   },
   {
    "duration": 1459,
    "start_time": "2023-06-15T15:10:05.722Z"
   },
   {
    "duration": 64,
    "start_time": "2023-06-15T15:10:07.183Z"
   },
   {
    "duration": 9,
    "start_time": "2023-06-15T15:10:07.249Z"
   },
   {
    "duration": 8,
    "start_time": "2023-06-15T15:10:07.259Z"
   },
   {
    "duration": 5,
    "start_time": "2023-06-15T15:10:07.268Z"
   },
   {
    "duration": 7,
    "start_time": "2023-06-15T15:10:07.274Z"
   },
   {
    "duration": 5,
    "start_time": "2023-06-15T15:10:07.283Z"
   },
   {
    "duration": 6,
    "start_time": "2023-06-15T15:10:07.289Z"
   },
   {
    "duration": 55,
    "start_time": "2023-06-15T15:10:07.296Z"
   },
   {
    "duration": 102,
    "start_time": "2023-06-15T15:10:07.353Z"
   },
   {
    "duration": 9,
    "start_time": "2023-06-15T15:10:07.456Z"
   },
   {
    "duration": 18,
    "start_time": "2023-06-15T15:10:07.466Z"
   },
   {
    "duration": 102,
    "start_time": "2023-06-15T15:10:07.486Z"
   },
   {
    "duration": 279,
    "start_time": "2023-06-15T15:10:07.591Z"
   },
   {
    "duration": 4,
    "start_time": "2023-06-15T15:10:07.872Z"
   },
   {
    "duration": 20,
    "start_time": "2023-06-15T15:10:07.877Z"
   },
   {
    "duration": 143,
    "start_time": "2023-06-15T15:10:07.898Z"
   },
   {
    "duration": 8,
    "start_time": "2023-06-15T15:10:08.044Z"
   },
   {
    "duration": 23,
    "start_time": "2023-06-15T15:10:08.053Z"
   },
   {
    "duration": 10,
    "start_time": "2023-06-15T15:10:08.078Z"
   },
   {
    "duration": 14,
    "start_time": "2023-06-15T15:14:50.631Z"
   },
   {
    "duration": 14,
    "start_time": "2023-06-15T15:28:07.239Z"
   },
   {
    "duration": 19,
    "start_time": "2023-06-15T15:28:10.663Z"
   },
   {
    "duration": 9,
    "start_time": "2023-06-15T15:32:25.628Z"
   },
   {
    "duration": 103,
    "start_time": "2023-06-15T15:36:41.430Z"
   },
   {
    "duration": 16,
    "start_time": "2023-06-15T15:37:57.713Z"
   },
   {
    "duration": 1329,
    "start_time": "2023-06-15T15:38:17.324Z"
   },
   {
    "duration": 38,
    "start_time": "2023-06-15T15:38:18.655Z"
   },
   {
    "duration": 47,
    "start_time": "2023-06-15T15:38:18.694Z"
   },
   {
    "duration": 25,
    "start_time": "2023-06-15T15:38:18.743Z"
   },
   {
    "duration": 14,
    "start_time": "2023-06-15T15:38:18.771Z"
   },
   {
    "duration": 12,
    "start_time": "2023-06-15T15:38:18.786Z"
   },
   {
    "duration": 55,
    "start_time": "2023-06-15T15:38:18.799Z"
   },
   {
    "duration": 27,
    "start_time": "2023-06-15T15:38:18.856Z"
   },
   {
    "duration": 41,
    "start_time": "2023-06-15T15:38:18.884Z"
   },
   {
    "duration": 122,
    "start_time": "2023-06-15T15:38:18.926Z"
   },
   {
    "duration": 8,
    "start_time": "2023-06-15T15:38:19.049Z"
   },
   {
    "duration": 82,
    "start_time": "2023-06-15T15:38:19.058Z"
   },
   {
    "duration": 44,
    "start_time": "2023-06-15T15:38:19.142Z"
   },
   {
    "duration": 282,
    "start_time": "2023-06-15T15:38:19.188Z"
   },
   {
    "duration": 4,
    "start_time": "2023-06-15T15:38:19.471Z"
   },
   {
    "duration": 11,
    "start_time": "2023-06-15T15:38:19.477Z"
   },
   {
    "duration": 133,
    "start_time": "2023-06-15T15:38:19.490Z"
   },
   {
    "duration": 126,
    "start_time": "2023-06-15T15:38:19.624Z"
   },
   {
    "duration": 0,
    "start_time": "2023-06-15T15:38:19.752Z"
   },
   {
    "duration": 0,
    "start_time": "2023-06-15T15:38:19.753Z"
   },
   {
    "duration": 9,
    "start_time": "2023-06-15T15:39:12.726Z"
   },
   {
    "duration": 1329,
    "start_time": "2023-06-15T15:39:26.430Z"
   },
   {
    "duration": 39,
    "start_time": "2023-06-15T15:39:27.761Z"
   },
   {
    "duration": 12,
    "start_time": "2023-06-15T15:39:27.801Z"
   },
   {
    "duration": 36,
    "start_time": "2023-06-15T15:39:27.814Z"
   },
   {
    "duration": 5,
    "start_time": "2023-06-15T15:39:27.853Z"
   },
   {
    "duration": 10,
    "start_time": "2023-06-15T15:39:27.859Z"
   },
   {
    "duration": 10,
    "start_time": "2023-06-15T15:39:27.870Z"
   },
   {
    "duration": 8,
    "start_time": "2023-06-15T15:39:27.881Z"
   },
   {
    "duration": 30,
    "start_time": "2023-06-15T15:39:27.891Z"
   },
   {
    "duration": 121,
    "start_time": "2023-06-15T15:39:27.922Z"
   },
   {
    "duration": 11,
    "start_time": "2023-06-15T15:39:28.045Z"
   },
   {
    "duration": 4,
    "start_time": "2023-06-15T15:39:28.058Z"
   },
   {
    "duration": 77,
    "start_time": "2023-06-15T15:39:28.064Z"
   },
   {
    "duration": 289,
    "start_time": "2023-06-15T15:39:28.144Z"
   },
   {
    "duration": 5,
    "start_time": "2023-06-15T15:39:28.441Z"
   },
   {
    "duration": 9,
    "start_time": "2023-06-15T15:39:28.448Z"
   },
   {
    "duration": 91,
    "start_time": "2023-06-15T15:39:28.458Z"
   },
   {
    "duration": 7,
    "start_time": "2023-06-15T15:39:28.551Z"
   },
   {
    "duration": 162,
    "start_time": "2023-06-15T15:39:28.559Z"
   },
   {
    "duration": 0,
    "start_time": "2023-06-15T15:39:28.723Z"
   },
   {
    "duration": 29,
    "start_time": "2023-06-15T15:40:08.694Z"
   },
   {
    "duration": 22,
    "start_time": "2023-06-15T15:40:22.234Z"
   },
   {
    "duration": 1406,
    "start_time": "2023-06-15T15:41:55.230Z"
   },
   {
    "duration": 39,
    "start_time": "2023-06-15T15:41:56.637Z"
   },
   {
    "duration": 11,
    "start_time": "2023-06-15T15:41:56.678Z"
   },
   {
    "duration": 44,
    "start_time": "2023-06-15T15:41:56.691Z"
   },
   {
    "duration": 27,
    "start_time": "2023-06-15T15:41:56.737Z"
   },
   {
    "duration": 21,
    "start_time": "2023-06-15T15:41:56.765Z"
   },
   {
    "duration": 24,
    "start_time": "2023-06-15T15:41:56.788Z"
   },
   {
    "duration": 23,
    "start_time": "2023-06-15T15:41:56.830Z"
   },
   {
    "duration": 36,
    "start_time": "2023-06-15T15:41:56.854Z"
   },
   {
    "duration": 101,
    "start_time": "2023-06-15T15:41:56.892Z"
   },
   {
    "duration": 26,
    "start_time": "2023-06-15T15:41:56.995Z"
   },
   {
    "duration": 30,
    "start_time": "2023-06-15T15:41:57.033Z"
   },
   {
    "duration": 84,
    "start_time": "2023-06-15T15:41:57.065Z"
   },
   {
    "duration": 275,
    "start_time": "2023-06-15T15:41:57.151Z"
   },
   {
    "duration": 5,
    "start_time": "2023-06-15T15:41:57.428Z"
   },
   {
    "duration": 34,
    "start_time": "2023-06-15T15:41:57.438Z"
   },
   {
    "duration": 91,
    "start_time": "2023-06-15T15:41:57.473Z"
   },
   {
    "duration": 6,
    "start_time": "2023-06-15T15:41:57.566Z"
   },
   {
    "duration": 143,
    "start_time": "2023-06-15T15:41:57.574Z"
   },
   {
    "duration": 0,
    "start_time": "2023-06-15T15:41:57.725Z"
   },
   {
    "duration": 13,
    "start_time": "2023-06-15T15:43:10.134Z"
   },
   {
    "duration": 19,
    "start_time": "2023-06-15T15:44:13.016Z"
   },
   {
    "duration": 1423,
    "start_time": "2023-06-15T15:44:22.516Z"
   },
   {
    "duration": 42,
    "start_time": "2023-06-15T15:44:23.941Z"
   },
   {
    "duration": 11,
    "start_time": "2023-06-15T15:44:23.984Z"
   },
   {
    "duration": 17,
    "start_time": "2023-06-15T15:44:23.996Z"
   },
   {
    "duration": 16,
    "start_time": "2023-06-15T15:44:24.020Z"
   },
   {
    "duration": 15,
    "start_time": "2023-06-15T15:44:24.037Z"
   },
   {
    "duration": 19,
    "start_time": "2023-06-15T15:44:24.053Z"
   },
   {
    "duration": 39,
    "start_time": "2023-06-15T15:44:24.074Z"
   },
   {
    "duration": 33,
    "start_time": "2023-06-15T15:44:24.115Z"
   },
   {
    "duration": 106,
    "start_time": "2023-06-15T15:44:24.150Z"
   },
   {
    "duration": 10,
    "start_time": "2023-06-15T15:44:24.258Z"
   },
   {
    "duration": 12,
    "start_time": "2023-06-15T15:44:24.270Z"
   },
   {
    "duration": 57,
    "start_time": "2023-06-15T15:44:24.284Z"
   },
   {
    "duration": 267,
    "start_time": "2023-06-15T15:44:24.344Z"
   },
   {
    "duration": 7,
    "start_time": "2023-06-15T15:44:24.612Z"
   },
   {
    "duration": 23,
    "start_time": "2023-06-15T15:44:24.620Z"
   },
   {
    "duration": 94,
    "start_time": "2023-06-15T15:44:24.644Z"
   },
   {
    "duration": 6,
    "start_time": "2023-06-15T15:44:24.739Z"
   },
   {
    "duration": 29,
    "start_time": "2023-06-15T15:44:24.747Z"
   },
   {
    "duration": 18,
    "start_time": "2023-06-15T15:44:24.777Z"
   },
   {
    "duration": 12,
    "start_time": "2023-06-15T15:45:10.320Z"
   },
   {
    "duration": 1449,
    "start_time": "2023-06-15T15:45:31.986Z"
   },
   {
    "duration": 38,
    "start_time": "2023-06-15T15:45:33.437Z"
   },
   {
    "duration": 9,
    "start_time": "2023-06-15T15:45:33.477Z"
   },
   {
    "duration": 33,
    "start_time": "2023-06-15T15:45:33.487Z"
   },
   {
    "duration": 7,
    "start_time": "2023-06-15T15:45:33.522Z"
   },
   {
    "duration": 6,
    "start_time": "2023-06-15T15:45:33.530Z"
   },
   {
    "duration": 4,
    "start_time": "2023-06-15T15:45:33.538Z"
   },
   {
    "duration": 13,
    "start_time": "2023-06-15T15:45:33.543Z"
   },
   {
    "duration": 23,
    "start_time": "2023-06-15T15:45:33.558Z"
   },
   {
    "duration": 104,
    "start_time": "2023-06-15T15:45:33.582Z"
   },
   {
    "duration": 30,
    "start_time": "2023-06-15T15:45:33.687Z"
   },
   {
    "duration": 40,
    "start_time": "2023-06-15T15:45:33.719Z"
   },
   {
    "duration": 84,
    "start_time": "2023-06-15T15:45:33.760Z"
   },
   {
    "duration": 282,
    "start_time": "2023-06-15T15:45:33.846Z"
   },
   {
    "duration": 4,
    "start_time": "2023-06-15T15:45:34.130Z"
   },
   {
    "duration": 8,
    "start_time": "2023-06-15T15:45:34.136Z"
   },
   {
    "duration": 98,
    "start_time": "2023-06-15T15:45:34.146Z"
   },
   {
    "duration": 8,
    "start_time": "2023-06-15T15:45:34.245Z"
   },
   {
    "duration": 21,
    "start_time": "2023-06-15T15:45:34.254Z"
   },
   {
    "duration": 29,
    "start_time": "2023-06-15T15:45:34.276Z"
   },
   {
    "duration": 1477,
    "start_time": "2023-06-15T15:47:55.355Z"
   },
   {
    "duration": 39,
    "start_time": "2023-06-15T15:47:56.833Z"
   },
   {
    "duration": 10,
    "start_time": "2023-06-15T15:47:56.874Z"
   },
   {
    "duration": 12,
    "start_time": "2023-06-15T15:47:56.885Z"
   },
   {
    "duration": 22,
    "start_time": "2023-06-15T15:47:56.898Z"
   },
   {
    "duration": 9,
    "start_time": "2023-06-15T15:47:56.922Z"
   },
   {
    "duration": 5,
    "start_time": "2023-06-15T15:47:56.932Z"
   },
   {
    "duration": 8,
    "start_time": "2023-06-15T15:47:56.938Z"
   },
   {
    "duration": 23,
    "start_time": "2023-06-15T15:47:56.947Z"
   },
   {
    "duration": 88,
    "start_time": "2023-06-15T15:47:56.972Z"
   },
   {
    "duration": 8,
    "start_time": "2023-06-15T15:47:57.062Z"
   },
   {
    "duration": 9,
    "start_time": "2023-06-15T15:47:57.071Z"
   },
   {
    "duration": 66,
    "start_time": "2023-06-15T15:47:57.082Z"
   },
   {
    "duration": 262,
    "start_time": "2023-06-15T15:47:57.151Z"
   },
   {
    "duration": 5,
    "start_time": "2023-06-15T15:47:57.415Z"
   },
   {
    "duration": 13,
    "start_time": "2023-06-15T15:47:57.422Z"
   },
   {
    "duration": 86,
    "start_time": "2023-06-15T15:47:57.436Z"
   },
   {
    "duration": 10,
    "start_time": "2023-06-15T15:47:57.526Z"
   },
   {
    "duration": 20,
    "start_time": "2023-06-15T15:47:57.537Z"
   },
   {
    "duration": 10,
    "start_time": "2023-06-15T15:47:57.558Z"
   },
   {
    "duration": 8,
    "start_time": "2023-06-15T15:55:28.652Z"
   },
   {
    "duration": 8,
    "start_time": "2023-06-15T15:56:24.480Z"
   },
   {
    "duration": 1563,
    "start_time": "2023-06-15T15:57:38.768Z"
   },
   {
    "duration": 38,
    "start_time": "2023-06-15T15:57:40.332Z"
   },
   {
    "duration": 8,
    "start_time": "2023-06-15T15:57:40.372Z"
   },
   {
    "duration": 46,
    "start_time": "2023-06-15T15:57:40.382Z"
   },
   {
    "duration": 13,
    "start_time": "2023-06-15T15:57:40.430Z"
   },
   {
    "duration": 6,
    "start_time": "2023-06-15T15:57:40.444Z"
   },
   {
    "duration": 30,
    "start_time": "2023-06-15T15:57:40.451Z"
   },
   {
    "duration": 14,
    "start_time": "2023-06-15T15:57:40.482Z"
   },
   {
    "duration": 49,
    "start_time": "2023-06-15T15:57:40.497Z"
   },
   {
    "duration": 102,
    "start_time": "2023-06-15T15:57:40.548Z"
   },
   {
    "duration": 9,
    "start_time": "2023-06-15T15:57:40.651Z"
   },
   {
    "duration": 11,
    "start_time": "2023-06-15T15:57:40.661Z"
   },
   {
    "duration": 104,
    "start_time": "2023-06-15T15:57:40.673Z"
   },
   {
    "duration": 277,
    "start_time": "2023-06-15T15:57:40.779Z"
   },
   {
    "duration": 4,
    "start_time": "2023-06-15T15:57:41.058Z"
   },
   {
    "duration": 15,
    "start_time": "2023-06-15T15:57:41.063Z"
   },
   {
    "duration": 109,
    "start_time": "2023-06-15T15:57:41.079Z"
   },
   {
    "duration": 7,
    "start_time": "2023-06-15T15:57:41.190Z"
   },
   {
    "duration": 53,
    "start_time": "2023-06-15T15:57:41.198Z"
   },
   {
    "duration": 34,
    "start_time": "2023-06-15T15:57:41.253Z"
   },
   {
    "duration": 33,
    "start_time": "2023-06-15T15:57:41.289Z"
   },
   {
    "duration": 7,
    "start_time": "2023-06-15T16:03:37.934Z"
   },
   {
    "duration": 122,
    "start_time": "2023-06-15T16:04:08.352Z"
   },
   {
    "duration": 11,
    "start_time": "2023-06-15T16:06:05.238Z"
   },
   {
    "duration": 11,
    "start_time": "2023-06-15T16:07:27.435Z"
   },
   {
    "duration": 9,
    "start_time": "2023-06-15T16:11:11.983Z"
   },
   {
    "duration": 9,
    "start_time": "2023-06-15T16:11:56.156Z"
   },
   {
    "duration": 19,
    "start_time": "2023-06-15T16:16:37.363Z"
   },
   {
    "duration": 15,
    "start_time": "2023-06-15T16:17:23.246Z"
   },
   {
    "duration": 14,
    "start_time": "2023-06-15T16:20:05.142Z"
   },
   {
    "duration": 51,
    "start_time": "2023-06-15T16:24:58.934Z"
   },
   {
    "duration": 61,
    "start_time": "2023-06-15T16:25:55.464Z"
   },
   {
    "duration": 32,
    "start_time": "2023-06-15T16:25:59.542Z"
   },
   {
    "duration": 62,
    "start_time": "2023-06-15T16:28:36.979Z"
   },
   {
    "duration": 38,
    "start_time": "2023-06-15T16:29:45.630Z"
   },
   {
    "duration": 37,
    "start_time": "2023-06-15T16:30:24.137Z"
   },
   {
    "duration": 1297,
    "start_time": "2023-06-15T16:32:32.032Z"
   },
   {
    "duration": 39,
    "start_time": "2023-06-15T16:32:33.334Z"
   },
   {
    "duration": 11,
    "start_time": "2023-06-15T16:32:33.374Z"
   },
   {
    "duration": 60,
    "start_time": "2023-06-15T16:32:33.386Z"
   },
   {
    "duration": 5,
    "start_time": "2023-06-15T16:32:33.448Z"
   },
   {
    "duration": 29,
    "start_time": "2023-06-15T16:32:33.454Z"
   },
   {
    "duration": 6,
    "start_time": "2023-06-15T16:32:33.485Z"
   },
   {
    "duration": 6,
    "start_time": "2023-06-15T16:32:33.492Z"
   },
   {
    "duration": 56,
    "start_time": "2023-06-15T16:32:33.506Z"
   },
   {
    "duration": 105,
    "start_time": "2023-06-15T16:32:33.563Z"
   },
   {
    "duration": 8,
    "start_time": "2023-06-15T16:32:33.670Z"
   },
   {
    "duration": 65,
    "start_time": "2023-06-15T16:32:33.679Z"
   },
   {
    "duration": 70,
    "start_time": "2023-06-15T16:32:33.746Z"
   },
   {
    "duration": 257,
    "start_time": "2023-06-15T16:32:33.833Z"
   },
   {
    "duration": 18,
    "start_time": "2023-06-15T16:32:34.091Z"
   },
   {
    "duration": 37,
    "start_time": "2023-06-15T16:32:34.110Z"
   },
   {
    "duration": 87,
    "start_time": "2023-06-15T16:32:34.149Z"
   },
   {
    "duration": 9,
    "start_time": "2023-06-15T16:32:34.242Z"
   },
   {
    "duration": 17,
    "start_time": "2023-06-15T16:32:34.252Z"
   },
   {
    "duration": 9,
    "start_time": "2023-06-15T16:32:34.270Z"
   },
   {
    "duration": 34,
    "start_time": "2023-06-15T16:32:34.280Z"
   },
   {
    "duration": 37,
    "start_time": "2023-06-15T16:32:34.315Z"
   },
   {
    "duration": 24,
    "start_time": "2023-06-15T16:32:34.353Z"
   },
   {
    "duration": 84,
    "start_time": "2023-06-15T16:32:34.378Z"
   },
   {
    "duration": 1469,
    "start_time": "2023-06-15T16:40:04.368Z"
   },
   {
    "duration": 41,
    "start_time": "2023-06-15T16:40:05.839Z"
   },
   {
    "duration": 71,
    "start_time": "2023-06-15T16:40:05.882Z"
   },
   {
    "duration": 37,
    "start_time": "2023-06-15T16:40:05.954Z"
   },
   {
    "duration": 71,
    "start_time": "2023-06-15T16:40:05.993Z"
   },
   {
    "duration": 15,
    "start_time": "2023-06-15T16:40:06.065Z"
   },
   {
    "duration": 7,
    "start_time": "2023-06-15T16:40:06.082Z"
   },
   {
    "duration": 61,
    "start_time": "2023-06-15T16:40:06.091Z"
   },
   {
    "duration": 25,
    "start_time": "2023-06-15T16:40:06.154Z"
   },
   {
    "duration": 144,
    "start_time": "2023-06-15T16:40:06.181Z"
   },
   {
    "duration": 11,
    "start_time": "2023-06-15T16:40:06.326Z"
   },
   {
    "duration": 41,
    "start_time": "2023-06-15T16:40:06.338Z"
   },
   {
    "duration": 64,
    "start_time": "2023-06-15T16:40:06.380Z"
   },
   {
    "duration": 278,
    "start_time": "2023-06-15T16:40:06.447Z"
   },
   {
    "duration": 8,
    "start_time": "2023-06-15T16:40:06.728Z"
   },
   {
    "duration": 11,
    "start_time": "2023-06-15T16:40:06.741Z"
   },
   {
    "duration": 87,
    "start_time": "2023-06-15T16:40:06.754Z"
   },
   {
    "duration": 8,
    "start_time": "2023-06-15T16:40:06.843Z"
   },
   {
    "duration": 14,
    "start_time": "2023-06-15T16:40:06.853Z"
   },
   {
    "duration": 9,
    "start_time": "2023-06-15T16:40:06.868Z"
   },
   {
    "duration": 12,
    "start_time": "2023-06-15T16:40:06.878Z"
   },
   {
    "duration": 51,
    "start_time": "2023-06-15T16:40:06.891Z"
   },
   {
    "duration": 29,
    "start_time": "2023-06-15T16:40:06.943Z"
   },
   {
    "duration": 49,
    "start_time": "2023-06-15T16:40:06.974Z"
   },
   {
    "duration": 1991,
    "start_time": "2023-06-16T16:16:55.130Z"
   },
   {
    "duration": 79,
    "start_time": "2023-06-16T16:16:57.123Z"
   },
   {
    "duration": 12,
    "start_time": "2023-06-16T16:16:57.204Z"
   },
   {
    "duration": 8,
    "start_time": "2023-06-16T16:16:57.218Z"
   },
   {
    "duration": 7,
    "start_time": "2023-06-16T16:16:59.283Z"
   },
   {
    "duration": 7,
    "start_time": "2023-06-16T16:16:59.484Z"
   },
   {
    "duration": 7,
    "start_time": "2023-06-16T16:16:59.672Z"
   },
   {
    "duration": 5,
    "start_time": "2023-06-16T16:16:59.891Z"
   },
   {
    "duration": 22,
    "start_time": "2023-06-16T16:17:00.184Z"
   },
   {
    "duration": 110,
    "start_time": "2023-06-16T16:17:01.395Z"
   },
   {
    "duration": 111,
    "start_time": "2023-06-16T16:18:03.481Z"
   },
   {
    "duration": 4,
    "start_time": "2023-06-16T16:18:10.606Z"
   },
   {
    "duration": 49,
    "start_time": "2023-06-16T16:18:10.613Z"
   },
   {
    "duration": 14,
    "start_time": "2023-06-16T16:18:10.664Z"
   },
   {
    "duration": 17,
    "start_time": "2023-06-16T16:18:10.680Z"
   },
   {
    "duration": 7,
    "start_time": "2023-06-16T16:18:10.699Z"
   },
   {
    "duration": 6,
    "start_time": "2023-06-16T16:18:10.708Z"
   },
   {
    "duration": 6,
    "start_time": "2023-06-16T16:18:10.716Z"
   },
   {
    "duration": 12,
    "start_time": "2023-06-16T16:18:10.724Z"
   },
   {
    "duration": 22,
    "start_time": "2023-06-16T16:18:10.737Z"
   },
   {
    "duration": 114,
    "start_time": "2023-06-16T16:18:10.762Z"
   },
   {
    "duration": 11,
    "start_time": "2023-06-16T16:18:10.878Z"
   },
   {
    "duration": 4,
    "start_time": "2023-06-16T16:18:10.891Z"
   },
   {
    "duration": 50,
    "start_time": "2023-06-16T16:18:10.912Z"
   },
   {
    "duration": 273,
    "start_time": "2023-06-16T16:18:10.964Z"
   },
   {
    "duration": 6,
    "start_time": "2023-06-16T16:18:11.238Z"
   },
   {
    "duration": 4,
    "start_time": "2023-06-16T16:18:11.246Z"
   },
   {
    "duration": 129,
    "start_time": "2023-06-16T16:18:11.251Z"
   },
   {
    "duration": 10,
    "start_time": "2023-06-16T16:18:11.382Z"
   },
   {
    "duration": 1817,
    "start_time": "2023-06-17T03:18:44.081Z"
   },
   {
    "duration": 96,
    "start_time": "2023-06-17T03:18:45.901Z"
   },
   {
    "duration": 28,
    "start_time": "2023-06-17T03:18:45.999Z"
   },
   {
    "duration": 6,
    "start_time": "2023-06-17T03:18:46.031Z"
   },
   {
    "duration": 5,
    "start_time": "2023-06-17T03:18:46.040Z"
   },
   {
    "duration": 15,
    "start_time": "2023-06-17T03:18:46.047Z"
   },
   {
    "duration": 6,
    "start_time": "2023-06-17T03:18:46.064Z"
   },
   {
    "duration": 6,
    "start_time": "2023-06-17T03:18:46.072Z"
   },
   {
    "duration": 60,
    "start_time": "2023-06-17T03:18:46.080Z"
   },
   {
    "duration": 154,
    "start_time": "2023-06-17T03:18:46.143Z"
   },
   {
    "duration": 17,
    "start_time": "2023-06-17T03:18:46.300Z"
   },
   {
    "duration": 23,
    "start_time": "2023-06-17T03:18:46.318Z"
   },
   {
    "duration": 64,
    "start_time": "2023-06-17T03:18:46.344Z"
   },
   {
    "duration": 282,
    "start_time": "2023-06-17T03:18:46.411Z"
   },
   {
    "duration": 7,
    "start_time": "2023-06-17T03:18:46.695Z"
   },
   {
    "duration": 8,
    "start_time": "2023-06-17T03:18:46.715Z"
   },
   {
    "duration": 121,
    "start_time": "2023-06-17T03:18:46.727Z"
   },
   {
    "duration": 11,
    "start_time": "2023-06-17T03:18:46.850Z"
   },
   {
    "duration": 44,
    "start_time": "2023-06-17T03:18:46.863Z"
   },
   {
    "duration": 36,
    "start_time": "2023-06-17T03:18:46.909Z"
   },
   {
    "duration": 43,
    "start_time": "2023-06-17T03:18:46.946Z"
   },
   {
    "duration": 18,
    "start_time": "2023-06-17T03:18:46.991Z"
   },
   {
    "duration": 49,
    "start_time": "2023-06-17T03:18:47.011Z"
   },
   {
    "duration": 64,
    "start_time": "2023-06-17T03:18:47.062Z"
   },
   {
    "duration": 11776,
    "start_time": "2023-06-17T03:32:54.065Z"
   },
   {
    "duration": 5,
    "start_time": "2023-06-17T03:33:41.575Z"
   },
   {
    "duration": 1618,
    "start_time": "2023-06-17T03:34:07.638Z"
   },
   {
    "duration": 45,
    "start_time": "2023-06-17T03:34:09.259Z"
   },
   {
    "duration": 14,
    "start_time": "2023-06-17T03:34:09.306Z"
   },
   {
    "duration": 18,
    "start_time": "2023-06-17T03:34:09.322Z"
   },
   {
    "duration": 27,
    "start_time": "2023-06-17T03:34:09.342Z"
   },
   {
    "duration": 22,
    "start_time": "2023-06-17T03:34:09.371Z"
   },
   {
    "duration": 26,
    "start_time": "2023-06-17T03:34:09.395Z"
   },
   {
    "duration": 14,
    "start_time": "2023-06-17T03:34:09.428Z"
   },
   {
    "duration": 30,
    "start_time": "2023-06-17T03:34:09.443Z"
   },
   {
    "duration": 121,
    "start_time": "2023-06-17T03:34:09.475Z"
   },
   {
    "duration": 31,
    "start_time": "2023-06-17T03:34:09.599Z"
   },
   {
    "duration": 7,
    "start_time": "2023-06-17T03:34:09.632Z"
   },
   {
    "duration": 80,
    "start_time": "2023-06-17T03:34:09.642Z"
   },
   {
    "duration": 12082,
    "start_time": "2023-06-17T03:34:09.725Z"
   },
   {
    "duration": 12,
    "start_time": "2023-06-17T03:34:21.808Z"
   },
   {
    "duration": 316,
    "start_time": "2023-06-17T03:34:21.825Z"
   },
   {
    "duration": 6,
    "start_time": "2023-06-17T03:34:22.143Z"
   },
   {
    "duration": 38,
    "start_time": "2023-06-17T03:34:22.151Z"
   },
   {
    "duration": 163,
    "start_time": "2023-06-17T03:34:22.191Z"
   },
   {
    "duration": 14,
    "start_time": "2023-06-17T03:34:22.356Z"
   },
   {
    "duration": 26,
    "start_time": "2023-06-17T03:34:22.372Z"
   },
   {
    "duration": 26,
    "start_time": "2023-06-17T03:34:22.401Z"
   },
   {
    "duration": 11,
    "start_time": "2023-06-17T03:34:22.429Z"
   },
   {
    "duration": 11,
    "start_time": "2023-06-17T03:34:22.442Z"
   },
   {
    "duration": 25,
    "start_time": "2023-06-17T03:34:22.455Z"
   },
   {
    "duration": 68,
    "start_time": "2023-06-17T03:34:22.482Z"
   },
   {
    "duration": 196,
    "start_time": "2023-06-17T03:39:59.646Z"
   },
   {
    "duration": 217,
    "start_time": "2023-06-17T03:42:31.936Z"
   },
   {
    "duration": 297,
    "start_time": "2023-06-17T03:42:41.199Z"
   },
   {
    "duration": 221,
    "start_time": "2023-06-17T03:44:23.675Z"
   },
   {
    "duration": 1809,
    "start_time": "2023-06-17T03:59:34.865Z"
   },
   {
    "duration": 54,
    "start_time": "2023-06-17T03:59:36.677Z"
   },
   {
    "duration": 22,
    "start_time": "2023-06-17T03:59:36.733Z"
   },
   {
    "duration": 17,
    "start_time": "2023-06-17T03:59:36.757Z"
   },
   {
    "duration": 13,
    "start_time": "2023-06-17T03:59:36.778Z"
   },
   {
    "duration": 11,
    "start_time": "2023-06-17T03:59:36.793Z"
   },
   {
    "duration": 17,
    "start_time": "2023-06-17T03:59:36.806Z"
   },
   {
    "duration": 23,
    "start_time": "2023-06-17T03:59:36.825Z"
   },
   {
    "duration": 38,
    "start_time": "2023-06-17T03:59:36.849Z"
   },
   {
    "duration": 144,
    "start_time": "2023-06-17T03:59:36.889Z"
   },
   {
    "duration": 15,
    "start_time": "2023-06-17T03:59:37.035Z"
   },
   {
    "duration": 5,
    "start_time": "2023-06-17T03:59:37.052Z"
   },
   {
    "duration": 73,
    "start_time": "2023-06-17T03:59:37.059Z"
   },
   {
    "duration": 13724,
    "start_time": "2023-06-17T03:59:37.136Z"
   },
   {
    "duration": 218,
    "start_time": "2023-06-17T03:59:50.861Z"
   },
   {
    "duration": 393,
    "start_time": "2023-06-17T03:59:51.081Z"
   },
   {
    "duration": 6,
    "start_time": "2023-06-17T03:59:51.476Z"
   },
   {
    "duration": 37,
    "start_time": "2023-06-17T03:59:51.484Z"
   },
   {
    "duration": 157862,
    "start_time": "2023-06-17T03:59:51.523Z"
   },
   {
    "duration": 4,
    "start_time": "2023-06-17T04:02:29.386Z"
   },
   {
    "duration": 42,
    "start_time": "2023-06-17T04:02:29.392Z"
   },
   {
    "duration": 133,
    "start_time": "2023-06-17T04:02:29.438Z"
   },
   {
    "duration": 13,
    "start_time": "2023-06-17T04:02:29.573Z"
   },
   {
    "duration": 36,
    "start_time": "2023-06-17T04:02:29.590Z"
   },
   {
    "duration": 48,
    "start_time": "2023-06-17T04:02:29.632Z"
   },
   {
    "duration": 13,
    "start_time": "2023-06-17T04:02:29.682Z"
   },
   {
    "duration": 24,
    "start_time": "2023-06-17T04:02:29.698Z"
   },
   {
    "duration": 61,
    "start_time": "2023-06-17T04:02:29.725Z"
   },
   {
    "duration": 68,
    "start_time": "2023-06-17T04:02:29.792Z"
   },
   {
    "duration": 156620,
    "start_time": "2023-06-17T04:02:51.784Z"
   },
   {
    "duration": 150192,
    "start_time": "2023-06-17T04:16:11.812Z"
   },
   {
    "duration": 7,
    "start_time": "2023-06-17T04:19:23.372Z"
   },
   {
    "duration": 8,
    "start_time": "2023-06-17T04:19:34.233Z"
   },
   {
    "duration": 3,
    "start_time": "2023-06-17T04:23:47.891Z"
   },
   {
    "duration": 138,
    "start_time": "2023-06-17T04:25:30.488Z"
   },
   {
    "duration": 135,
    "start_time": "2023-06-17T04:31:27.699Z"
   },
   {
    "duration": 14,
    "start_time": "2023-06-17T04:32:12.343Z"
   },
   {
    "duration": 1024,
    "start_time": "2023-06-17T04:42:08.363Z"
   },
   {
    "duration": 197,
    "start_time": "2023-06-17T04:43:09.875Z"
   },
   {
    "duration": 170,
    "start_time": "2023-06-17T04:43:48.139Z"
   },
   {
    "duration": 1895,
    "start_time": "2023-06-17T04:44:15.982Z"
   },
   {
    "duration": 68,
    "start_time": "2023-06-17T04:44:17.880Z"
   },
   {
    "duration": 19,
    "start_time": "2023-06-17T04:44:17.951Z"
   },
   {
    "duration": 17,
    "start_time": "2023-06-17T04:44:17.975Z"
   },
   {
    "duration": 28,
    "start_time": "2023-06-17T04:44:17.995Z"
   },
   {
    "duration": 26,
    "start_time": "2023-06-17T04:44:18.027Z"
   },
   {
    "duration": 24,
    "start_time": "2023-06-17T04:44:18.055Z"
   },
   {
    "duration": 20,
    "start_time": "2023-06-17T04:44:18.081Z"
   },
   {
    "duration": 73,
    "start_time": "2023-06-17T04:44:18.103Z"
   },
   {
    "duration": 172,
    "start_time": "2023-06-17T04:44:18.178Z"
   },
   {
    "duration": 14,
    "start_time": "2023-06-17T04:44:18.352Z"
   },
   {
    "duration": 7,
    "start_time": "2023-06-17T04:44:18.369Z"
   },
   {
    "duration": 97,
    "start_time": "2023-06-17T04:44:18.379Z"
   },
   {
    "duration": 14084,
    "start_time": "2023-06-17T04:44:18.479Z"
   },
   {
    "duration": 230,
    "start_time": "2023-06-17T04:44:32.569Z"
   },
   {
    "duration": 375,
    "start_time": "2023-06-17T04:44:32.801Z"
   },
   {
    "duration": 11,
    "start_time": "2023-06-17T04:44:33.178Z"
   },
   {
    "duration": 22,
    "start_time": "2023-06-17T04:44:33.193Z"
   },
   {
    "duration": 169938,
    "start_time": "2023-06-17T04:44:33.217Z"
   },
   {
    "duration": 4,
    "start_time": "2023-06-17T04:47:23.157Z"
   },
   {
    "duration": 338,
    "start_time": "2023-06-17T04:47:23.163Z"
   },
   {
    "duration": 0,
    "start_time": "2023-06-17T04:47:23.504Z"
   },
   {
    "duration": 0,
    "start_time": "2023-06-17T04:47:23.516Z"
   },
   {
    "duration": 0,
    "start_time": "2023-06-17T04:47:23.517Z"
   },
   {
    "duration": 0,
    "start_time": "2023-06-17T04:47:23.522Z"
   },
   {
    "duration": 0,
    "start_time": "2023-06-17T04:47:23.525Z"
   },
   {
    "duration": 0,
    "start_time": "2023-06-17T04:47:23.526Z"
   },
   {
    "duration": 0,
    "start_time": "2023-06-17T04:47:23.527Z"
   },
   {
    "duration": 0,
    "start_time": "2023-06-17T04:47:23.528Z"
   },
   {
    "duration": 0,
    "start_time": "2023-06-17T04:47:23.535Z"
   },
   {
    "duration": 1700,
    "start_time": "2023-06-17T04:50:45.602Z"
   },
   {
    "duration": 85,
    "start_time": "2023-06-17T04:50:47.304Z"
   },
   {
    "duration": 12,
    "start_time": "2023-06-17T04:50:47.390Z"
   },
   {
    "duration": 159,
    "start_time": "2023-06-17T04:50:47.404Z"
   },
   {
    "duration": 14,
    "start_time": "2023-06-17T04:50:47.566Z"
   },
   {
    "duration": 9,
    "start_time": "2023-06-17T04:50:47.582Z"
   },
   {
    "duration": 34,
    "start_time": "2023-06-17T04:50:47.592Z"
   },
   {
    "duration": 8,
    "start_time": "2023-06-17T04:50:47.628Z"
   },
   {
    "duration": 51,
    "start_time": "2023-06-17T04:50:47.638Z"
   },
   {
    "duration": 131,
    "start_time": "2023-06-17T04:50:47.691Z"
   },
   {
    "duration": 15,
    "start_time": "2023-06-17T04:50:47.824Z"
   },
   {
    "duration": 8,
    "start_time": "2023-06-17T04:50:47.843Z"
   },
   {
    "duration": 59,
    "start_time": "2023-06-17T04:50:47.855Z"
   },
   {
    "duration": 14105,
    "start_time": "2023-06-17T04:50:47.917Z"
   },
   {
    "duration": 238,
    "start_time": "2023-06-17T04:51:02.031Z"
   },
   {
    "duration": 436,
    "start_time": "2023-06-17T04:51:02.273Z"
   },
   {
    "duration": 31,
    "start_time": "2023-06-17T04:51:02.710Z"
   },
   {
    "duration": 17,
    "start_time": "2023-06-17T04:51:02.753Z"
   },
   {
    "duration": 175844,
    "start_time": "2023-06-17T04:51:02.781Z"
   },
   {
    "duration": 7,
    "start_time": "2023-06-17T04:53:58.631Z"
   },
   {
    "duration": 187,
    "start_time": "2023-06-17T04:53:58.641Z"
   },
   {
    "duration": 28,
    "start_time": "2023-06-17T04:53:58.833Z"
   },
   {
    "duration": 28,
    "start_time": "2023-06-17T04:53:58.863Z"
   },
   {
    "duration": 39,
    "start_time": "2023-06-17T04:53:58.892Z"
   },
   {
    "duration": 57,
    "start_time": "2023-06-17T04:53:58.940Z"
   },
   {
    "duration": 24,
    "start_time": "2023-06-17T04:53:58.999Z"
   },
   {
    "duration": 17,
    "start_time": "2023-06-17T04:53:59.027Z"
   },
   {
    "duration": 86,
    "start_time": "2023-06-17T04:53:59.046Z"
   },
   {
    "duration": 93,
    "start_time": "2023-06-17T04:53:59.134Z"
   }
  ],
  "kernelspec": {
   "display_name": "Python 3 (ipykernel)",
   "language": "python",
   "name": "python3"
  },
  "language_info": {
   "codemirror_mode": {
    "name": "ipython",
    "version": 3
   },
   "file_extension": ".py",
   "mimetype": "text/x-python",
   "name": "python",
   "nbconvert_exporter": "python",
   "pygments_lexer": "ipython3",
   "version": "3.10.12"
  },
  "toc": {
   "base_numbering": 1,
   "nav_menu": {},
   "number_sections": true,
   "sideBar": true,
   "skip_h1_title": true,
   "title_cell": "Table of Contents",
   "title_sidebar": "Contents",
   "toc_cell": false,
   "toc_position": {},
   "toc_section_display": true,
   "toc_window_display": false
  }
 },
 "nbformat": 4,
 "nbformat_minor": 2
}
